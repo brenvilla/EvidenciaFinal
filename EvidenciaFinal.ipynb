{
  "nbformat": 4,
  "nbformat_minor": 0,
  "metadata": {
    "colab": {
      "provenance": [],
      "authorship_tag": "ABX9TyOhHK7MbOrTz5YU1NXF/d2L",
      "include_colab_link": true
    },
    "kernelspec": {
      "name": "python3",
      "display_name": "Python 3"
    },
    "language_info": {
      "name": "python"
    }
  },
  "cells": [
    {
      "cell_type": "markdown",
      "metadata": {
        "id": "view-in-github",
        "colab_type": "text"
      },
      "source": [
        "<a href=\"https://colab.research.google.com/github/brenvilla/EvidenciaFinal/blob/main/EvidenciaFinal.ipynb\" target=\"_parent\"><img src=\"https://colab.research.google.com/assets/colab-badge.svg\" alt=\"Open In Colab\"/></a>"
      ]
    },
    {
      "cell_type": "markdown",
      "source": [
        "# **UF-6 Actividad Integradora M6**\n",
        "\n",
        "Brenda Villa Campos A01732238"
      ],
      "metadata": {
        "id": "rVL2MqvXLqmC"
      }
    },
    {
      "cell_type": "code",
      "execution_count": 8,
      "metadata": {
        "id": "1mqpIJ0rEAgS"
      },
      "outputs": [],
      "source": [
        "import streamlit as st\n",
        "import pandas as pd\n",
        "import numpy as np\n",
        "import plotly as px\n",
        "import plotly.figure_factory as ff\n",
        "from bokeh.plotting import figure\n",
        "import matplotlib.pyplot as plt\n",
        "from streamlit_extras.colored_header import colored_header\n",
        "from streamlit_extras.chart_container import chart_container\n",
        "from streamlit_extras.dataframe_explorer import dataframe_explorer\n",
        "import plotly.express as px\n",
        "import plotly.figure_factory as ff\n",
        "import plotly.graph_objects as go\n",
        "\n",
        "colored_header(\n",
        "    label=\":rotating_light: The Police Incident Reports from 2018 to 2020 in San Francisco :rotating_light:\", \n",
        "    description = ' ',\n",
        "    color_name=\"blue-70\",\n",
        ")\n",
        "st.markdown('The data shown below belongs to incident reports in the city of San Francisco, from the year 2018 to 2020, with details from each case such as date, day of the week, police district, neighborhood in which it happened, type of incident in category and subcategory, exact location and resolution.')\n",
        "st.markdown('The database used for the construction of this report is presented below. Filters can be applied to the following dataframe')\n",
        "df = pd.read_csv(\"Police_Department_Incident_Reports__2018_to_Present.csv\")\n",
        "\n",
        "\n",
        "mapa = pd.DataFrame()\n",
        "mapa['Date'] = df['Incident Date']\n",
        "mapa['Day'] = df['Incident Day of Week']\n",
        "mapa['Police District']= df['Police District']\n",
        "mapa['Neighborhood'] = df['Analysis Neighborhood']\n",
        "mapa['Incident Category']= df['Incident Category']\n",
        "mapa['Incident Subcategory']= df['Incident Subcategory']\n",
        "mapa['Report Type Description'] = df['Report Type Description']\n",
        "mapa['Resolution'] = df['Resolution']\n",
        "mapa['lat'] = df['Latitude']\n",
        "mapa['lon'] = df['Longitude']\n",
        "mapa = mapa.dropna()\n",
        "\n",
        "subset_data2 = mapa\n",
        "police_district_input = st.sidebar.multiselect(\n",
        "'Police District',\n",
        "mapa.groupby('Police District').count().reset_index()['Police District'].tolist())\n",
        "if len(police_district_input) > 0:\n",
        "    subset_data2 = mapa[mapa['Police District'].isin(police_district_input)]\n",
        "\n",
        "subset_data1 = subset_data2\n",
        "neighborhood_input = st.sidebar.multiselect(\n",
        "'Neighborhood',\n",
        "subset_data2.groupby('Neighborhood').count().reset_index()['Neighborhood'].tolist())\n",
        "if len(neighborhood_input) > 0:\n",
        "    subset_data1 = subset_data2[subset_data2['Neighborhood'].isin(neighborhood_input)]\n",
        "\n",
        "subset_data = subset_data1\n",
        "incident_input = st.sidebar.multiselect(\n",
        "'Incident Category',\n",
        "subset_data1.groupby('Incident Category').count().reset_index()['Incident Category'].tolist())\n",
        "if len(incident_input) > 0:\n",
        "    subset_data = subset_data1[subset_data1['Incident Category'].isin(incident_input)]\n",
        "            \n",
        "#subset_data\n",
        "\n",
        "filtered_df = dataframe_explorer(subset_data, case=False)\n",
        "st.dataframe(filtered_df, use_container_width=True)\n",
        "\n",
        "st.markdown('It is important to mention that any police district can answer to any incident, the neighborhood in which it happened is not related to the police district.')\n",
        "st.subheader('Crime locations in San Francisco')\n",
        "st.map(subset_data)\n",
        "\n",
        "st.subheader(\"Crimes ocurred per day of the week\")\n",
        "with chart_container(subset_data):\n",
        "  fig1 = px.histogram(subset_data, y='Day', color = 'Day',\n",
        "                      color_discrete_sequence=[\"#5355B8\",\"#82BCEB\",\"#EDD4BE\",\"#141785\",\"#B87453\",\"#EDB164\",\"#ED9264\"],\n",
        "                      category_orders={\"Day\": [\"Monday\", \"Tuesday\", \"Wednesday\", \"Thursday\", \"Friday\",\"Saturday\",\"Sunday\"]})\n",
        "  st.plotly_chart(fig1, use_container_width=True)\n",
        "    \n",
        "st.subheader('Resolution status by Incident Category')\n",
        "with chart_container(subset_data):\n",
        "  fig2 = px.histogram(subset_data, x='Resolution', color='Incident Category', color_discrete_sequence=px.colors.qualitative.G10)\n",
        "  st.plotly_chart(fig2, use_container_width=True)\n",
        "\n",
        "st.subheader('Types of crimes committed by Police District')\n",
        "with chart_container(subset_data):\n",
        "  fig3 = px.histogram(subset_data, x='Incident Category', color='Police District', color_discrete_sequence=px.colors.qualitative.G10)\n",
        "  st.plotly_chart(fig3, use_container_width=True)\n",
        "\n",
        "agree = st.button('Click to see Incident Subcategories')\n",
        "if agree:\n",
        "  st.subheader('Subtype of crimes committed by Police District')\n",
        "  fig4 = px.histogram(subset_data, x='Incident Subcategory', color='Police District', color_discrete_sequence=px.colors.qualitative.G10)\n",
        "  st.plotly_chart(fig4, use_container_width=True)\n",
        "\n",
        "st.subheader('Resolution status')\n",
        "with chart_container(subset_data):\n",
        "  res = subset_data['Resolution'].value_counts()\n",
        "  namesRes = subset_data['Resolution'].unique()\n",
        "  fig5 = px.pie(res,values ='Resolution', names = namesRes, color_discrete_sequence=[\"#5355B8\",\"#82BCEB\",\"#EDD4BE\",\"#141785\"])\n",
        "  st.plotly_chart(fig5, use_container_width=True)\n",
        "\n",
        "st.subheader('Report Type Description')\n",
        "with chart_container(subset_data):\n",
        "  reportType = subset_data['Report Type Description'].value_counts()\n",
        "  names = subset_data['Report Type Description'].unique()\n",
        "  fig6 = px.pie(reportType,values ='Report Type Description', names = names, color_discrete_sequence=[\"#5355B8\",\"#82BCEB\",\"#EDD4BE\",\"#141785\",\"#B87453\"])\n",
        "  st.plotly_chart(fig6, use_container_width=True)\n"
      ]
    }
  ]
}